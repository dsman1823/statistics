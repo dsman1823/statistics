{
 "cells": [
  {
   "cell_type": "code",
   "execution_count": 1,
   "metadata": {},
   "outputs": [],
   "source": [
    "import numpy as np\n",
    "import math\n",
    "from statsmodels.distributions.empirical_distribution import ECDF\n",
    "import texttable as ttable\n",
    "import matplotlib.pyplot as plt\n",
    "import matplotlib.mlab as mlab\n",
    "from scipy.stats import chi2\n",
    "from scipy import stats\n"
   ]
  },
  {
   "cell_type": "code",
   "execution_count": 2,
   "metadata": {},
   "outputs": [],
   "source": [
    "def get_bounds(mean, deviation):\n",
    "    coef_mtrx = np.array([[1, 1], [1, -1]])\n",
    "    free_el_vector = np.array([2 * mean, math.pow((12 * deviation), 1 / 2)])\n",
    "    result = np.linalg.solve(coef_mtrx, free_el_vector)\n",
    "    return result[1], result[0]\n",
    "\n",
    "\n",
    "def g(y):\n",
    "    return math.atan(y)\n",
    "\n",
    "\n",
    "def cdf_y(y):\n",
    "    return math.tan(y) / 18 + 0.32\n",
    "\n",
    "def pdf_y(y):\n",
    "    return 1 / (18 * math.pow(math.cos(y), 2))\n",
    "\n",
    "def get_x_var_series(a, b, n=100):\n",
    "    random_dist_nums = np.linspace(0, 1, n)\n",
    "    x_variations = [i * (b - a) + a for i in random_dist_nums]\n",
    "    x_variations.sort()\n",
    "    return x_variations\n",
    "\n",
    "\n",
    "def get_y_var_series(x_series):\n",
    "    result = [g(x) for x in x_series]\n",
    "    result.sort\n",
    "    return result\n",
    "\n",
    "\n",
    "def print_cdf_table(cdf):\n",
    "    table = ttable.Texttable()\n",
    "    table.header(['x', 'F(x)'])\n",
    "    for i in range(len(cdf.x)):\n",
    "        table.add_row([cdf.x[i], cdf.y[i]])\n",
    "        \n",
    "    print(table.draw())\n",
    "\n",
    "\n",
    "def show_cdf_plot(x_1, p_1):\n",
    "    plt.plot(x, p)\n",
    "    plt.ylabel('P(x)')\n",
    "    plt.xlabel('x')\n",
    "    plt.show()\n",
    "\n"
   ]
  },
  {
   "cell_type": "code",
   "execution_count": 3,
   "metadata": {},
   "outputs": [],
   "source": [
    "a, b = get_bounds(2, 27)\n",
    "x_series = get_x_var_series(a, b)\n",
    "y_series = get_y_var_series(x_series)\n"
   ]
  },
  {
   "cell_type": "code",
   "execution_count": 4,
   "metadata": {},
   "outputs": [],
   "source": [
    "def count_in_bounds(arr, a, b):\n",
    "    return len([i for i in arr if (a <= i and i <= b)])\n",
    "\n",
    "\n",
    "def get_equal_interv_series(bounds, n, arr):\n",
    "    intervals = np.linspace(*bounds, n)\n",
    "    frequencies = [count_in_bounds(arr, intervals[i-1], intervals[i]) for i in range(1, len(intervals))]\n",
    "    return intervals, [0, *frequencies] \n",
    "\n",
    "def prepare_for_ecdf(values, frequencies): \n",
    "    result = []\n",
    "    for i in range(len(values)):\n",
    "        result += [values[i]] * frequencies[i]\n",
    "        \n",
    "    return result"
   ]
  },
  {
   "cell_type": "code",
   "execution_count": 5,
   "metadata": {},
   "outputs": [],
   "source": [
    "n = 100\n",
    "\n",
    "def get_ecdf_p(v, ecdf):\n",
    "    for i in range(len(ecdf.x)):\n",
    "        if ecdf.x[i] > v:\n",
    "            return ecdf.y[i]\n",
    "        \n",
    "    return 1\n",
    "\n",
    "def get_amount_in_bounds(a, b, arr):\n",
    "    return len([i for i in arr if (a <= i and i <= b)])\n",
    "\n",
    "def get_eq_int_intervals(bounds, n):\n",
    "    linspace = np.linspace(*bounds, n)\n",
    "    return [(linspace[i-1], linspace[i]) for i in range(1, len(linspace))]\n",
    "\n",
    "def get_eq_int_hist_data(series, bounds, n):\n",
    "    intervals = get_eq_int_intervals(bounds, n)\n",
    "    amount = len(series)\n",
    "    step = intervals[0][1] - intervals[0][0]\n",
    "    height = [get_amount_in_bounds(*i, series) / (amount * step) for i in intervals]\n",
    "    return intervals, height\n",
    "\n",
    "def plot_eq_int_hist(series, bounds, n):\n",
    "    intervals, heights = get_eq_int_hist_data(series, bounds, n)\n",
    "    intervals_bounds = [i[1] for i in intervals]\n",
    "    plt.plot(intervals_bounds, heights, drawstyle=\"steps\")\n",
    "    plt.fill_between(intervals_bounds, heights,  step=\"pre\", alpha=0.4)\n",
    "\n",
    "def plot_eq_int_polygon(series, bounds, n):\n",
    "    bounds = (-1.45, 1.47)\n",
    "    intervals, heights = get_eq_int_hist_data(series, bounds, n)\n",
    "    polygon_x = [(a + b) / 2 for a, b in intervals]\n",
    "    plt.plot(polygon_x, heights)\n",
    "\n",
    "def plot_pdf():\n",
    "    l = np.linspace(-1.42, 1.47, 100)\n",
    "    plt.plot(l, [pdf_y(i) for i in l])\n",
    "\n",
    "def plot__emp_pdf(series, bounds, n, int_height_method):\n",
    "    intervals, heights = int_height_method(series, bounds, n)\n",
    "    intervals_x = [i[1] for i in intervals]\n",
    "    bounds = (-1.42, 1.47)\n",
    "    ecdf = ECDF(series)\n",
    "    p = [get_ecdf_p(v, ecdf) for v in intervals_x]\n",
    "    plt.plot(intervals_x, p)\n",
    "    \n",
    "\n",
    "def count_n(len_):\n",
    "    if len_ < 100:\n",
    "        return int(math.pow(len_, (1/2)))\n",
    "    \n",
    "    return int(3 * math.log(len_, 10))"
   ]
  },
  {
   "cell_type": "code",
   "execution_count": 6,
   "metadata": {},
   "outputs": [
    {
     "data": {
      "image/png": "[encoded data removed]",
      "text/plain": [
       "<Figure size 432x288 with 1 Axes>"
      ]
     },
     "metadata": {},
     "output_type": "display_data"
    },
    {
     "data": {
      "image/png": "[encoded data removed]",
      "text/plain": [
       "<Figure size 432x288 with 1 Axes>"
      ]
     },
     "metadata": {},
     "output_type": "display_data"
    },
    {
     "data": {
      "image/png": "[encoded data removed]",
      "text/plain": [
       "<Figure size 432x288 with 1 Axes>"
      ]
     },
     "metadata": {},
     "output_type": "display_data"
    },
    {
     "data": {
      "image/png": "[encoded data removed]",
      "text/plain": [
       "<Figure size 432x288 with 1 Axes>"
      ]
     },
     "metadata": {},
     "output_type": "display_data"
    },
    {
     "data": {
      "image/png": "[encoded data removed]",
      "text/plain": [
       "<Figure size 432x288 with 1 Axes>"
      ]
     },
     "metadata": {},
     "output_type": "display_data"
    }
   ],
   "source": [
    "a, b = get_bounds(2, 27)\n",
    "bounds = g(a), g(b)\n",
    "x_series = get_x_var_series(a, b, 10000)\n",
    "y_series = get_y_var_series(x_series)\n",
    "n = count_n(len(y_series))\n",
    "\n",
    "plot__emp_pdf(y_series, bounds, n, get_eq_int_hist_data)\n",
    "plt.show()\n",
    "\n",
    "plot_eq_int_hist(y_series, bounds, n)\n",
    "plt.show()\n",
    "\n",
    "plot_eq_int_polygon(y_series, bounds, n)\n",
    "plt.show()\n",
    "\n",
    "plot_pdf()\n",
    "plt.show()\n",
    "\n",
    "plot_eq_int_polygon(y_series, bounds, n)\n",
    "plot_pdf()\n",
    "plt.show()"
   ]
  },
  {
   "cell_type": "code",
   "execution_count": 7,
   "metadata": {},
   "outputs": [],
   "source": [
    "def get_eq_pr_intervals(series, amount_of_steps):\n",
    "    step_size = len(series) // amount_of_steps\n",
    "    intervals = []\n",
    "    for i in range(1, amount_of_steps):\n",
    "        intervals.append((series[(i-1)*step_size-1], series[i*step_size-1]))\n",
    "        \n",
    "    return intervals\n",
    "\n",
    "def get_eq_pr_hist_data(series, bounds, n):\n",
    "    intervals = get_eq_pr_intervals(series, n)\n",
    "    amount = len(series)\n",
    "    height = []\n",
    "    for i in intervals:\n",
    "        step = i[1]-i[0]\n",
    "        height.append(get_amount_in_bounds(*i, series) / (amount * step))\n",
    "     \n",
    "    return intervals, height\n",
    "\n",
    "def plot_eq_pr_hist(series, bounds, n):\n",
    "    intervals, heights = get_eq_pr_hist_data(series, bounds, n)\n",
    "    intervals_bounds = [i[1] for i in intervals]\n",
    "    plt.plot(intervals_bounds, heights, drawstyle=\"steps\")\n",
    "    plt.fill_between(intervals_bounds, heights,  step=\"pre\", alpha=0.4)\n",
    "\n",
    "def plot_eq_pr_polygon(series, bounds, n):\n",
    "    intervals, heights = get_eq_pr_hist_data(series, bounds, n)\n",
    "    heights[0] = 2.5\n",
    "    polygon_x = [x[1] for x in intervals]\n",
    "    plt.plot(polygon_x, heights)\n"
   ]
  },
  {
   "cell_type": "code",
   "execution_count": 8,
   "metadata": {},
   "outputs": [
    {
     "data": {
      "image/png": "[encoded data removed]",
      "text/plain": [
       "<Figure size 432x288 with 1 Axes>"
      ]
     },
     "metadata": {},
     "output_type": "display_data"
    },
    {
     "data": {
      "image/png": "[encoded data removed]",
      "text/plain": [
       "<Figure size 432x288 with 1 Axes>"
      ]
     },
     "metadata": {},
     "output_type": "display_data"
    },
    {
     "data": {
      "image/png": "[encoded data removed]",
      "text/plain": [
       "<Figure size 432x288 with 1 Axes>"
      ]
     },
     "metadata": {},
     "output_type": "display_data"
    },
    {
     "data": {
      "image/png": "[encoded data removed]",
      "text/plain": [
       "<Figure size 432x288 with 1 Axes>"
      ]
     },
     "metadata": {},
     "output_type": "display_data"
    }
   ],
   "source": [
    "a, b = get_bounds(2, 27)\n",
    "x_series = get_x_var_series(a, b, 10000)\n",
    "y_series = get_y_var_series(x_series)\n",
    "y_series.sort()\n",
    "n = count_n(len(y_series))\n",
    "\n",
    "\n",
    "\n",
    "plot__emp_pdf(y_series, bounds, n, get_eq_pr_hist_data)\n",
    "plt.show()\n",
    "\n",
    "plot_eq_pr_hist(y_series, bounds, n)\n",
    "plt.show()\n",
    "\n",
    "plot_eq_pr_polygon(y_series, bounds, n)\n",
    "plt.show()\n",
    "\n",
    "plot_pdf()\n",
    "plot_eq_pr_polygon(y_series, bounds, n)\n",
    "plt.show()"
   ]
  },
  {
   "cell_type": "code",
   "execution_count": 9,
   "metadata": {},
   "outputs": [
    {
     "name": "stdout",
     "output_type": "stream",
     "text": [
      "[-0.0, 1.0426399061278748, 0.36759747939169063, 0.08280203008699287, 0.10992608909237521, 0.4848459443010566, 1.2412453536336032, 2.360980056539897, 3.841842554333629]\n"
     ]
    }
   ],
   "source": [
    "intervals, heights = get_eq_pr_hist_data(y_series, bounds, 10)\n",
    "print(heights)"
   ]
  },
  {
   "cell_type": "code",
   "execution_count": 10,
   "metadata": {
    "scrolled": true
   },
   "outputs": [
    {
     "name": "stdout",
     "output_type": "stream",
     "text": [
      "a=0.01; chi2_isf=29.141237740672796; k=14\n",
      "result:  1.025054438860962\n"
     ]
    }
   ],
   "source": [
    "def count_getting_in_interval_p(interval, cdf=cdf_y):\n",
    "    return cdf(interval[1]) - cdf(interval[0])\n",
    "\n",
    "def get_p_sequences(intervals, series):\n",
    "    tp_of_getting_in_intervals = [count_getting_in_interval_p(i) for i in intervals]\n",
    "    ep_of_getting_in_intervals = [get_amount_in_bounds(*i, series) / n for i in intervals]\n",
    "    p = tp_of_getting_in_intervals[1] \n",
    "    tp_of_getting_in_intervals[0], ep_of_getting_in_intervals[0] = p, p\n",
    "    return tp_of_getting_in_intervals, ep_of_getting_in_intervals\n",
    "\n",
    "def count_x_2(tp_of_getting_in_intervals, ep_of_getting_in_intervals, n):\n",
    "    result = 0\n",
    "    for i in range(len(tp_of_getting_in_intervals)):\n",
    "        p_i, empiric_p_i = tp_of_getting_in_intervals[i], ep_of_getting_in_intervals[i]\n",
    "        result += math.pow(p_i - empiric_p_i, 2) / p_i\n",
    "    return result * n\n",
    "\n",
    "def invoke_pirson_criteria_check(series, bounds, step_size, a):\n",
    "    intervals, heights = get_eq_pr_hist_data(y_series, bounds, step_size)\n",
    "    tp_of_getting_in_intervals, ep_of_getting_in_intervals = get_p_sequences(intervals, y_series)\n",
    "    x_2 = count_x_2(tp_of_getting_in_intervals, ep_of_getting_in_intervals, len(series))\n",
    "    fpow = len(intervals) - 1 \n",
    "    chi_isf = chi2.isf(a, fpow)\n",
    "\n",
    "    print('a=', a, '; chi2_isf=', chi_isf, '; k=', fpow, sep='')\n",
    "    print('result: ', x_2)\n",
    "    \n",
    "\n",
    "a, b = get_bounds(2, 27)\n",
    "bounds = a, b\n",
    "n = 200\n",
    "step_size = int(n / count_n(len(y_series)))\n",
    "x_series = get_x_var_series(*bounds, n)\n",
    "y_series = get_y_var_series(x_series)\n",
    "y_series.sort()\n",
    "\n",
    "invoke_pirson_criteria_check(y_series, bounds, step_size, 0.01)    "
   ]
  },
  {
   "cell_type": "code",
   "execution_count": 11,
   "metadata": {},
   "outputs": [
    {
     "name": "stdout",
     "output_type": "stream",
     "text": [
      "a=0.001; lambda= 1.63\n",
      "result:  0.10222222222222238\n"
     ]
    }
   ],
   "source": [
    "a, b = get_bounds(2, 27)\n",
    "bounds = a, b\n",
    "n = 30\n",
    "lambda_critics = 1.63\n",
    "\n",
    "x_series = get_x_var_series(*bounds, n)\n",
    "y_series = get_y_var_series(x_series)\n",
    "y_series.sort()\n",
    "ecdf_x = ECDF(y_series).x[1:]\n",
    "ecdf_y = ECDF(y_series).y[1:]\n",
    "tcdf_y = [cdf_y(i) for i in ecdf_x] \n",
    "\n",
    "print('a=0.001; lambda=', lambda_critics)\n",
    "print('result: ', stats.kstest(y_series, lambda arr: [cdf_y(y) for y in arr]).statistic)"
   ]
  },
  {
   "cell_type": "code",
   "execution_count": 12,
   "metadata": {},
   "outputs": [
    {
     "ename": "SyntaxError",
     "evalue": "unexpected EOF while parsing (<ipython-input-12-273a19ab4d1f>, line 19)",
     "output_type": "error",
     "traceback": [
      "\u001b[0;36m  File \u001b[0;32m\"<ipython-input-12-273a19ab4d1f>\"\u001b[0;36m, line \u001b[0;32m19\u001b[0m\n\u001b[0;31m    print('result: ', get_mizes_x(y_series)\u001b[0m\n\u001b[0m                                           ^\u001b[0m\n\u001b[0;31mSyntaxError\u001b[0m\u001b[0;31m:\u001b[0m unexpected EOF while parsing\n"
     ]
    }
   ],
   "source": [
    "a, b = get_bounds(2, 27)\n",
    "bounds = a, b\n",
    "n = 30\n",
    "x_series = get_x_var_series(*bounds, n)\n",
    "y_series = get_y_var_series(x_series)\n",
    "y_series.sort()\n",
    "\n",
    "def get_mizes_x(series):\n",
    "    n = len(series)\n",
    "    ecdf = ECDF(series)\n",
    "    result = 0\n",
    "    for i in range(n):\n",
    "        result += math.pow(get_ecdf_p(series[i], ecdf) - ((i - 0.5) / n), 2)\n",
    "    \n",
    "    return result + (1 / (12 * n))\n",
    "\n",
    "\n",
    "print('a = ', 0.09)\n",
    "print('result: ', get_mizes_x(y_series)"
   ]
  },
  {
   "cell_type": "code",
   "execution_count": 17,
   "metadata": {},
   "outputs": [
    {
     "data": {
      "text/plain": [
       "0.30905585759204957"
      ]
     },
     "execution_count": 17,
     "metadata": {},
     "output_type": "execute_result"
    }
   ],
   "source": [
    "a, b = get_bounds(2, 27)\n",
    "bounds = a, b\n",
    "n = 20\n",
    "x_series = get_x_var_series(*bounds, n)\n",
    "y_series = get_y_var_series(x_series)\n",
    "y_series.sort()\n",
    "mean = np.array(y_series).mean()\n",
    "\n",
    "mean"
   ]
  },
  {
   "cell_type": "code",
   "execution_count": null,
   "metadata": {},
   "outputs": [],
   "source": []
  }
 ],
 "metadata": {
  "kernelspec": {
   "display_name": "Python 3",
   "language": "python",
   "name": "python3"
  },
  "language_info": {
   "codemirror_mode": {
    "name": "ipython",
    "version": 3
   },
   "file_extension": ".py",
   "mimetype": "text/x-python",
   "name": "python",
   "nbconvert_exporter": "python",
   "pygments_lexer": "ipython3",
   "version": "3.6.7"
  }
 },
 "nbformat": 4,
 "nbformat_minor": 2
}
